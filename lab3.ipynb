{
 "cells": [
  {
   "cell_type": "markdown",
   "metadata": {
    "id": "Vg1tiI3d2958"
   },
   "source": [
    "## 4918 Ткачев М.А\n",
    "---\n",
    "#**Введение в анализ данных**\n",
    "### Лабораторная работа №3 **Кластеризация данных**\n",
    "---\n",
    "### Индивидуальный вариант №5\n",
    "Датасет: ***5gym_churn.csv***\n",
    "> Информация о заемщиках:\n",
    "1. gender – Пол\n",
    "2. near_location – Близкое расположение\n",
    "3. partner – Сотрудник компании партнера\n",
    "4. promo_friends – По промо друзей\n",
    "5. phone – Указан ли телефон\n",
    "6. contract_period – Длительность текущего абонемента\n",
    "7. group_visits – Посещение групповых занятий\n",
    "8. age – Возраст\n",
    "9. avg_additional_charges_total – Средние траты на доп услуги\n",
    "10. month_to_end_contract – Количество месяцев до окончания абонемента\n",
    "11. lifetime – Время с момента первого обращения в фитнес-центр (в месяцах)\n",
    "12. avg_class_frequency_total – Средняя частота посещений в неделю за все время с начала действия абонемента\n",
    "13. avg_class_frequency_current_month – Средняя частота посещений в неделю за предыдущий месяц\n",
    "14. churn – Факт ухода из клуба\n",
    "\n",
    "\n",
    "\n",
    "\n",
    "\n",
    "\n",
    "\n",
    "\n",
    "\n",
    "\n",
    "\n",
    "\n",
    "\n",
    "\n"
   ]
  },
  {
   "cell_type": "code",
   "execution_count": null,
   "metadata": {
    "colab": {
     "base_uri": "https://localhost:8080/"
    },
    "id": "2fRv7jBJ5FLg",
    "outputId": "f61d9f40-2c77-46a4-c9d6-1fdde9601d43"
   },
   "outputs": [],
   "source": []
  },
  {
   "cell_type": "code",
   "execution_count": 1,
   "metadata": {
    "id": "RJYzprfp2zqI"
   },
   "outputs": [],
   "source": [
    "# Подключаем библиотеку для обработки и анализа данных\n",
    "import pandas as pd"
   ]
  },
  {
   "cell_type": "code",
   "execution_count": 2,
   "metadata": {
    "id": "MspfNS0B4Kal"
   },
   "outputs": [],
   "source": [
    "# Загружаем датасет\n",
    "df=pd.read_csv('5gym_churn.csv', delimiter=',')"
   ]
  },
  {
   "cell_type": "code",
   "execution_count": 3,
   "metadata": {
    "colab": {
     "base_uri": "https://localhost:8080/"
    },
    "id": "enJIamQ-4x4h",
    "outputId": "c16d408e-988a-459d-d73f-a95a289b81fb"
   },
   "outputs": [
    {
     "name": "stdout",
     "output_type": "stream",
     "text": [
      "<class 'pandas.core.frame.DataFrame'>\n",
      "RangeIndex: 4000 entries, 0 to 3999\n",
      "Data columns (total 14 columns):\n",
      " #   Column                             Non-Null Count  Dtype  \n",
      "---  ------                             --------------  -----  \n",
      " 0   gender                             4000 non-null   int64  \n",
      " 1   Near_Location                      4000 non-null   int64  \n",
      " 2   Partner                            4000 non-null   int64  \n",
      " 3   Promo_friends                      4000 non-null   int64  \n",
      " 4   Phone                              4000 non-null   int64  \n",
      " 5   Contract_period                    4000 non-null   int64  \n",
      " 6   Group_visits                       4000 non-null   int64  \n",
      " 7   Age                                4000 non-null   int64  \n",
      " 8   Avg_additional_charges_total       4000 non-null   float64\n",
      " 9   Month_to_end_contract              4000 non-null   float64\n",
      " 10  Lifetime                           4000 non-null   int64  \n",
      " 11  Avg_class_frequency_total          4000 non-null   float64\n",
      " 12  Avg_class_frequency_current_month  4000 non-null   float64\n",
      " 13  Churn                              4000 non-null   int64  \n",
      "dtypes: float64(4), int64(10)\n",
      "memory usage: 437.6 KB\n"
     ]
    }
   ],
   "source": [
    "# Выводим информацию о данных датасета\n",
    "df.info()"
   ]
  },
  {
   "cell_type": "code",
   "execution_count": 4,
   "metadata": {
    "colab": {
     "base_uri": "https://localhost:8080/",
     "height": 363
    },
    "id": "eHJUfbG04wXd",
    "outputId": "40d3120b-498c-4e36-ec20-b3478a4b955d"
   },
   "outputs": [
    {
     "data": {
      "text/html": [
       "<div>\n",
       "<style scoped>\n",
       "    .dataframe tbody tr th:only-of-type {\n",
       "        vertical-align: middle;\n",
       "    }\n",
       "\n",
       "    .dataframe tbody tr th {\n",
       "        vertical-align: top;\n",
       "    }\n",
       "\n",
       "    .dataframe thead th {\n",
       "        text-align: right;\n",
       "    }\n",
       "</style>\n",
       "<table border=\"1\" class=\"dataframe\">\n",
       "  <thead>\n",
       "    <tr style=\"text-align: right;\">\n",
       "      <th></th>\n",
       "      <th>gender</th>\n",
       "      <th>Near_Location</th>\n",
       "      <th>Partner</th>\n",
       "      <th>Promo_friends</th>\n",
       "      <th>Phone</th>\n",
       "      <th>Contract_period</th>\n",
       "      <th>Group_visits</th>\n",
       "      <th>Age</th>\n",
       "      <th>Avg_additional_charges_total</th>\n",
       "      <th>Month_to_end_contract</th>\n",
       "      <th>Lifetime</th>\n",
       "      <th>Avg_class_frequency_total</th>\n",
       "      <th>Avg_class_frequency_current_month</th>\n",
       "      <th>Churn</th>\n",
       "    </tr>\n",
       "  </thead>\n",
       "  <tbody>\n",
       "    <tr>\n",
       "      <th>0</th>\n",
       "      <td>1</td>\n",
       "      <td>1</td>\n",
       "      <td>1</td>\n",
       "      <td>1</td>\n",
       "      <td>0</td>\n",
       "      <td>6</td>\n",
       "      <td>1</td>\n",
       "      <td>29</td>\n",
       "      <td>14.227470</td>\n",
       "      <td>5.0</td>\n",
       "      <td>3</td>\n",
       "      <td>0.020398</td>\n",
       "      <td>0.000000</td>\n",
       "      <td>0</td>\n",
       "    </tr>\n",
       "    <tr>\n",
       "      <th>1</th>\n",
       "      <td>0</td>\n",
       "      <td>1</td>\n",
       "      <td>0</td>\n",
       "      <td>0</td>\n",
       "      <td>1</td>\n",
       "      <td>12</td>\n",
       "      <td>1</td>\n",
       "      <td>31</td>\n",
       "      <td>113.202938</td>\n",
       "      <td>12.0</td>\n",
       "      <td>7</td>\n",
       "      <td>1.922936</td>\n",
       "      <td>1.910244</td>\n",
       "      <td>0</td>\n",
       "    </tr>\n",
       "    <tr>\n",
       "      <th>2</th>\n",
       "      <td>0</td>\n",
       "      <td>1</td>\n",
       "      <td>1</td>\n",
       "      <td>0</td>\n",
       "      <td>1</td>\n",
       "      <td>1</td>\n",
       "      <td>0</td>\n",
       "      <td>28</td>\n",
       "      <td>129.448479</td>\n",
       "      <td>1.0</td>\n",
       "      <td>2</td>\n",
       "      <td>1.859098</td>\n",
       "      <td>1.736502</td>\n",
       "      <td>0</td>\n",
       "    </tr>\n",
       "    <tr>\n",
       "      <th>3</th>\n",
       "      <td>0</td>\n",
       "      <td>1</td>\n",
       "      <td>1</td>\n",
       "      <td>1</td>\n",
       "      <td>1</td>\n",
       "      <td>12</td>\n",
       "      <td>1</td>\n",
       "      <td>33</td>\n",
       "      <td>62.669863</td>\n",
       "      <td>12.0</td>\n",
       "      <td>2</td>\n",
       "      <td>3.205633</td>\n",
       "      <td>3.357215</td>\n",
       "      <td>0</td>\n",
       "    </tr>\n",
       "    <tr>\n",
       "      <th>4</th>\n",
       "      <td>1</td>\n",
       "      <td>1</td>\n",
       "      <td>1</td>\n",
       "      <td>1</td>\n",
       "      <td>1</td>\n",
       "      <td>1</td>\n",
       "      <td>0</td>\n",
       "      <td>26</td>\n",
       "      <td>198.362265</td>\n",
       "      <td>1.0</td>\n",
       "      <td>3</td>\n",
       "      <td>1.113884</td>\n",
       "      <td>1.120078</td>\n",
       "      <td>0</td>\n",
       "    </tr>\n",
       "    <tr>\n",
       "      <th>5</th>\n",
       "      <td>1</td>\n",
       "      <td>1</td>\n",
       "      <td>0</td>\n",
       "      <td>0</td>\n",
       "      <td>1</td>\n",
       "      <td>1</td>\n",
       "      <td>1</td>\n",
       "      <td>34</td>\n",
       "      <td>450.743960</td>\n",
       "      <td>1.0</td>\n",
       "      <td>3</td>\n",
       "      <td>2.623477</td>\n",
       "      <td>2.637007</td>\n",
       "      <td>0</td>\n",
       "    </tr>\n",
       "    <tr>\n",
       "      <th>6</th>\n",
       "      <td>1</td>\n",
       "      <td>1</td>\n",
       "      <td>1</td>\n",
       "      <td>1</td>\n",
       "      <td>0</td>\n",
       "      <td>6</td>\n",
       "      <td>1</td>\n",
       "      <td>32</td>\n",
       "      <td>94.266389</td>\n",
       "      <td>6.0</td>\n",
       "      <td>2</td>\n",
       "      <td>1.138941</td>\n",
       "      <td>1.277242</td>\n",
       "      <td>0</td>\n",
       "    </tr>\n",
       "    <tr>\n",
       "      <th>7</th>\n",
       "      <td>0</td>\n",
       "      <td>1</td>\n",
       "      <td>0</td>\n",
       "      <td>0</td>\n",
       "      <td>1</td>\n",
       "      <td>1</td>\n",
       "      <td>0</td>\n",
       "      <td>30</td>\n",
       "      <td>217.786641</td>\n",
       "      <td>1.0</td>\n",
       "      <td>0</td>\n",
       "      <td>1.213502</td>\n",
       "      <td>1.049387</td>\n",
       "      <td>1</td>\n",
       "    </tr>\n",
       "    <tr>\n",
       "      <th>8</th>\n",
       "      <td>1</td>\n",
       "      <td>1</td>\n",
       "      <td>1</td>\n",
       "      <td>1</td>\n",
       "      <td>1</td>\n",
       "      <td>1</td>\n",
       "      <td>1</td>\n",
       "      <td>23</td>\n",
       "      <td>45.409909</td>\n",
       "      <td>1.0</td>\n",
       "      <td>1</td>\n",
       "      <td>1.106239</td>\n",
       "      <td>1.059333</td>\n",
       "      <td>0</td>\n",
       "    </tr>\n",
       "    <tr>\n",
       "      <th>9</th>\n",
       "      <td>0</td>\n",
       "      <td>1</td>\n",
       "      <td>0</td>\n",
       "      <td>0</td>\n",
       "      <td>1</td>\n",
       "      <td>1</td>\n",
       "      <td>0</td>\n",
       "      <td>31</td>\n",
       "      <td>65.310836</td>\n",
       "      <td>1.0</td>\n",
       "      <td>11</td>\n",
       "      <td>1.810852</td>\n",
       "      <td>1.951368</td>\n",
       "      <td>0</td>\n",
       "    </tr>\n",
       "  </tbody>\n",
       "</table>\n",
       "</div>"
      ],
      "text/plain": [
       "   gender  Near_Location  Partner  Promo_friends  Phone  Contract_period  \\\n",
       "0       1              1        1              1      0                6   \n",
       "1       0              1        0              0      1               12   \n",
       "2       0              1        1              0      1                1   \n",
       "3       0              1        1              1      1               12   \n",
       "4       1              1        1              1      1                1   \n",
       "5       1              1        0              0      1                1   \n",
       "6       1              1        1              1      0                6   \n",
       "7       0              1        0              0      1                1   \n",
       "8       1              1        1              1      1                1   \n",
       "9       0              1        0              0      1                1   \n",
       "\n",
       "   Group_visits  Age  Avg_additional_charges_total  Month_to_end_contract  \\\n",
       "0             1   29                     14.227470                    5.0   \n",
       "1             1   31                    113.202938                   12.0   \n",
       "2             0   28                    129.448479                    1.0   \n",
       "3             1   33                     62.669863                   12.0   \n",
       "4             0   26                    198.362265                    1.0   \n",
       "5             1   34                    450.743960                    1.0   \n",
       "6             1   32                     94.266389                    6.0   \n",
       "7             0   30                    217.786641                    1.0   \n",
       "8             1   23                     45.409909                    1.0   \n",
       "9             0   31                     65.310836                    1.0   \n",
       "\n",
       "   Lifetime  Avg_class_frequency_total  Avg_class_frequency_current_month  \\\n",
       "0         3                   0.020398                           0.000000   \n",
       "1         7                   1.922936                           1.910244   \n",
       "2         2                   1.859098                           1.736502   \n",
       "3         2                   3.205633                           3.357215   \n",
       "4         3                   1.113884                           1.120078   \n",
       "5         3                   2.623477                           2.637007   \n",
       "6         2                   1.138941                           1.277242   \n",
       "7         0                   1.213502                           1.049387   \n",
       "8         1                   1.106239                           1.059333   \n",
       "9        11                   1.810852                           1.951368   \n",
       "\n",
       "   Churn  \n",
       "0      0  \n",
       "1      0  \n",
       "2      0  \n",
       "3      0  \n",
       "4      0  \n",
       "5      0  \n",
       "6      0  \n",
       "7      1  \n",
       "8      0  \n",
       "9      0  "
      ]
     },
     "execution_count": 4,
     "metadata": {},
     "output_type": "execute_result"
    }
   ],
   "source": [
    "# Выводим первые 10 строк датасета\n",
    "df.head(10)"
   ]
  },
  {
   "cell_type": "markdown",
   "metadata": {
    "id": "GZWUmiRVT3pk"
   },
   "source": [
    "### Вывод\n",
    "\n",
    "Ознакомившись с данные на первый взгляд с ними все хорошо только названия столбцов нужно привести к единому змеиному регистру, переименовывать не нужно так как названия столбцов соответствуют содержимому.\n",
    "\n",
    "Типы данных также соответствуют."
   ]
  },
  {
   "cell_type": "markdown",
   "metadata": {
    "id": "gfn1lNQy4pd-"
   },
   "source": [
    "# Предварительная подготовка данных"
   ]
  },
  {
   "cell_type": "markdown",
   "metadata": {
    "id": "KXHgoxw-5uLs"
   },
   "source": [
    "## Устранение проблем названий столбцов"
   ]
  },
  {
   "cell_type": "code",
   "execution_count": 5,
   "metadata": {
    "colab": {
     "base_uri": "https://localhost:8080/"
    },
    "id": "I_pyPFUO6ZRW",
    "outputId": "ee474f6f-de67-4a30-97ca-2d52d83aefb4"
   },
   "outputs": [
    {
     "name": "stdout",
     "output_type": "stream",
     "text": [
      "gender\n",
      "Near_Location\n",
      "Partner\n",
      "Promo_friends\n",
      "Phone\n",
      "Contract_period\n",
      "Group_visits\n",
      "Age\n",
      "Avg_additional_charges_total\n",
      "Month_to_end_contract\n",
      "Lifetime\n",
      "Avg_class_frequency_total\n",
      "Avg_class_frequency_current_month\n",
      "Churn\n"
     ]
    }
   ],
   "source": [
    "# Вывели названия столбцов таблицы\n",
    "print(*df.columns.tolist(), sep='\\n')"
   ]
  },
  {
   "cell_type": "code",
   "execution_count": 6,
   "metadata": {
    "colab": {
     "base_uri": "https://localhost:8080/"
    },
    "id": "Ap1xtFMt6fAg",
    "outputId": "86ffa03c-76ee-4887-b5f1-2422eae7ec9c"
   },
   "outputs": [
    {
     "name": "stdout",
     "output_type": "stream",
     "text": [
      "gender\n",
      "near_location\n",
      "partner\n",
      "promo_friends\n",
      "phone\n",
      "contract_period\n",
      "group_visits\n",
      "age\n",
      "avg_additional_charges_total\n",
      "month_to_end_contract\n",
      "lifetime\n",
      "avg_class_frequency_total\n",
      "avg_class_frequency_current_month\n",
      "churn\n"
     ]
    }
   ],
   "source": [
    "# Приведём названия столбцов к нижнему регистру\n",
    "df.columns = df.columns.str.lower()\n",
    "# Проверка\n",
    "print(*df.columns.tolist(), sep='\\n')"
   ]
  },
  {
   "cell_type": "markdown",
   "metadata": {
    "id": "ncrcziujkfMo"
   },
   "source": [
    "### Вывод\n",
    "\n",
    "Теперь названия столбцов имеют единый стиль змеиного регистра, что улучшает восприяние информации."
   ]
  },
  {
   "cell_type": "markdown",
   "metadata": {
    "id": "aZ8HNom491f_"
   },
   "source": [
    "## Обработка пропусков"
   ]
  },
  {
   "cell_type": "code",
   "execution_count": 7,
   "metadata": {
    "colab": {
     "base_uri": "https://localhost:8080/"
    },
    "id": "i3QYpMwV-3Jj",
    "outputId": "8b719e9f-619f-49df-ba44-f0a14156d42a"
   },
   "outputs": [
    {
     "data": {
      "text/plain": [
       "gender                               0\n",
       "near_location                        0\n",
       "partner                              0\n",
       "promo_friends                        0\n",
       "phone                                0\n",
       "contract_period                      0\n",
       "group_visits                         0\n",
       "age                                  0\n",
       "avg_additional_charges_total         0\n",
       "month_to_end_contract                0\n",
       "lifetime                             0\n",
       "avg_class_frequency_total            0\n",
       "avg_class_frequency_current_month    0\n",
       "churn                                0\n",
       "dtype: int64"
      ]
     },
     "execution_count": 7,
     "metadata": {},
     "output_type": "execute_result"
    }
   ],
   "source": [
    "# поиск пустых значений\n",
    "df.isnull().sum()"
   ]
  },
  {
   "cell_type": "markdown",
   "metadata": {
    "id": "sPIIKNWNkwqp"
   },
   "source": [
    "### Вывод\n",
    "\n",
    "Пропусков в дата сете не оказалось, исправлять ничего не нужно – это упрощает нам работу."
   ]
  },
  {
   "cell_type": "markdown",
   "metadata": {
    "id": "ON1xWKP2Wr9r"
   },
   "source": [
    "## Устранение дубликатов "
   ]
  },
  {
   "cell_type": "code",
   "execution_count": 8,
   "metadata": {
    "colab": {
     "base_uri": "https://localhost:8080/"
    },
    "id": "08h06GBoW0Vj",
    "outputId": "533eba31-a5b0-4611-9ecb-0b76b15803d3"
   },
   "outputs": [
    {
     "data": {
      "text/plain": [
       "0"
      ]
     },
     "execution_count": 8,
     "metadata": {},
     "output_type": "execute_result"
    }
   ],
   "source": [
    "# проверим, есть ли дубликаты в таблице\n",
    "df.duplicated().sum()"
   ]
  },
  {
   "cell_type": "markdown",
   "metadata": {
    "id": "m5aBtBUVduTp"
   },
   "source": [
    "### Вывод\n",
    "\n",
    "Дубликаты отсутствуют."
   ]
  },
  {
   "cell_type": "markdown",
   "metadata": {
    "id": "A3lgpFTlYQkr"
   },
   "source": [
    "## Обработка других ошибок в данных"
   ]
  },
  {
   "cell_type": "code",
   "execution_count": 9,
   "metadata": {
    "colab": {
     "base_uri": "https://localhost:8080/"
    },
    "id": "f9D53hBzY-iC",
    "outputId": "7298a25b-4689-4ac2-f8c8-182e0d7a0b14"
   },
   "outputs": [
    {
     "name": "stdout",
     "output_type": "stream",
     "text": [
      "Столбец: gender\n",
      "0\n",
      "1\n",
      "_____________________________________\n",
      "Столбец: near_location\n",
      "0\n",
      "1\n",
      "_____________________________________\n",
      "Столбец: partner\n",
      "0\n",
      "1\n",
      "_____________________________________\n",
      "Столбец: promo_friends\n",
      "0\n",
      "1\n",
      "_____________________________________\n",
      "Столбец: phone\n",
      "0\n",
      "1\n",
      "_____________________________________\n",
      "Столбец: contract_period\n",
      "1\n",
      "6\n",
      "12\n",
      "_____________________________________\n",
      "Столбец: group_visits\n",
      "0\n",
      "1\n",
      "_____________________________________\n",
      "Столбец: age\n",
      "18\n",
      "19\n",
      "20\n",
      "21\n",
      "22\n",
      "23\n",
      "24\n",
      "25\n",
      "26\n",
      "27\n",
      "28\n",
      "29\n",
      "30\n",
      "31\n",
      "32\n",
      "33\n",
      "34\n",
      "35\n",
      "36\n",
      "37\n",
      "38\n",
      "39\n",
      "41\n",
      "_____________________________________\n",
      "Столбец: lifetime\n",
      "0\n",
      "1\n",
      "2\n",
      "3\n",
      "4\n",
      "5\n",
      "6\n",
      "7\n",
      "8\n",
      "9\n",
      "10\n",
      "11\n",
      "12\n",
      "13\n",
      "14\n",
      "15\n",
      "16\n",
      "17\n",
      "18\n",
      "19\n",
      "20\n",
      "21\n",
      "22\n",
      "23\n",
      "24\n",
      "26\n",
      "27\n",
      "29\n",
      "31\n",
      "_____________________________________\n",
      "Столбец: churn\n",
      "0\n",
      "1\n",
      "_____________________________________\n"
     ]
    }
   ],
   "source": [
    "import numpy as np\n",
    "# посмотрим уникальные значения в столбцах\n",
    "for i in df.columns:\n",
    "  if i not in ['avg_additional_charges_total', 'month_to_end_contract', 'avg_class_frequency_total', 'avg_class_frequency_current_month']:\n",
    "    print('Столбец: ' + i, *np.sort(df[i].unique()),'_____________________________________', sep='\\n')"
   ]
  },
  {
   "cell_type": "code",
   "execution_count": 10,
   "metadata": {
    "colab": {
     "base_uri": "https://localhost:8080/",
     "height": 488
    },
    "id": "XjPaOyyLuA0q",
    "outputId": "d22f1c1d-7cbe-4f81-bdd0-1b303b1dbd36"
   },
   "outputs": [
    {
     "data": {
      "text/html": [
       "<div>\n",
       "<style scoped>\n",
       "    .dataframe tbody tr th:only-of-type {\n",
       "        vertical-align: middle;\n",
       "    }\n",
       "\n",
       "    .dataframe tbody tr th {\n",
       "        vertical-align: top;\n",
       "    }\n",
       "\n",
       "    .dataframe thead th {\n",
       "        text-align: right;\n",
       "    }\n",
       "</style>\n",
       "<table border=\"1\" class=\"dataframe\">\n",
       "  <thead>\n",
       "    <tr style=\"text-align: right;\">\n",
       "      <th></th>\n",
       "      <th>count</th>\n",
       "      <th>mean</th>\n",
       "      <th>std</th>\n",
       "      <th>min</th>\n",
       "      <th>25%</th>\n",
       "      <th>50%</th>\n",
       "      <th>75%</th>\n",
       "      <th>max</th>\n",
       "    </tr>\n",
       "  </thead>\n",
       "  <tbody>\n",
       "    <tr>\n",
       "      <th>gender</th>\n",
       "      <td>4000.0</td>\n",
       "      <td>0.510250</td>\n",
       "      <td>0.499957</td>\n",
       "      <td>0.000000</td>\n",
       "      <td>0.000000</td>\n",
       "      <td>1.000000</td>\n",
       "      <td>1.000000</td>\n",
       "      <td>1.000000</td>\n",
       "    </tr>\n",
       "    <tr>\n",
       "      <th>near_location</th>\n",
       "      <td>4000.0</td>\n",
       "      <td>0.845250</td>\n",
       "      <td>0.361711</td>\n",
       "      <td>0.000000</td>\n",
       "      <td>1.000000</td>\n",
       "      <td>1.000000</td>\n",
       "      <td>1.000000</td>\n",
       "      <td>1.000000</td>\n",
       "    </tr>\n",
       "    <tr>\n",
       "      <th>partner</th>\n",
       "      <td>4000.0</td>\n",
       "      <td>0.486750</td>\n",
       "      <td>0.499887</td>\n",
       "      <td>0.000000</td>\n",
       "      <td>0.000000</td>\n",
       "      <td>0.000000</td>\n",
       "      <td>1.000000</td>\n",
       "      <td>1.000000</td>\n",
       "    </tr>\n",
       "    <tr>\n",
       "      <th>promo_friends</th>\n",
       "      <td>4000.0</td>\n",
       "      <td>0.308500</td>\n",
       "      <td>0.461932</td>\n",
       "      <td>0.000000</td>\n",
       "      <td>0.000000</td>\n",
       "      <td>0.000000</td>\n",
       "      <td>1.000000</td>\n",
       "      <td>1.000000</td>\n",
       "    </tr>\n",
       "    <tr>\n",
       "      <th>phone</th>\n",
       "      <td>4000.0</td>\n",
       "      <td>0.903500</td>\n",
       "      <td>0.295313</td>\n",
       "      <td>0.000000</td>\n",
       "      <td>1.000000</td>\n",
       "      <td>1.000000</td>\n",
       "      <td>1.000000</td>\n",
       "      <td>1.000000</td>\n",
       "    </tr>\n",
       "    <tr>\n",
       "      <th>contract_period</th>\n",
       "      <td>4000.0</td>\n",
       "      <td>4.681250</td>\n",
       "      <td>4.549706</td>\n",
       "      <td>1.000000</td>\n",
       "      <td>1.000000</td>\n",
       "      <td>1.000000</td>\n",
       "      <td>6.000000</td>\n",
       "      <td>12.000000</td>\n",
       "    </tr>\n",
       "    <tr>\n",
       "      <th>group_visits</th>\n",
       "      <td>4000.0</td>\n",
       "      <td>0.412250</td>\n",
       "      <td>0.492301</td>\n",
       "      <td>0.000000</td>\n",
       "      <td>0.000000</td>\n",
       "      <td>0.000000</td>\n",
       "      <td>1.000000</td>\n",
       "      <td>1.000000</td>\n",
       "    </tr>\n",
       "    <tr>\n",
       "      <th>age</th>\n",
       "      <td>4000.0</td>\n",
       "      <td>29.184250</td>\n",
       "      <td>3.258367</td>\n",
       "      <td>18.000000</td>\n",
       "      <td>27.000000</td>\n",
       "      <td>29.000000</td>\n",
       "      <td>31.000000</td>\n",
       "      <td>41.000000</td>\n",
       "    </tr>\n",
       "    <tr>\n",
       "      <th>avg_additional_charges_total</th>\n",
       "      <td>4000.0</td>\n",
       "      <td>146.943728</td>\n",
       "      <td>96.355602</td>\n",
       "      <td>0.148205</td>\n",
       "      <td>68.868830</td>\n",
       "      <td>136.220159</td>\n",
       "      <td>210.949625</td>\n",
       "      <td>552.590740</td>\n",
       "    </tr>\n",
       "    <tr>\n",
       "      <th>month_to_end_contract</th>\n",
       "      <td>4000.0</td>\n",
       "      <td>4.322750</td>\n",
       "      <td>4.191297</td>\n",
       "      <td>1.000000</td>\n",
       "      <td>1.000000</td>\n",
       "      <td>1.000000</td>\n",
       "      <td>6.000000</td>\n",
       "      <td>12.000000</td>\n",
       "    </tr>\n",
       "    <tr>\n",
       "      <th>lifetime</th>\n",
       "      <td>4000.0</td>\n",
       "      <td>3.724750</td>\n",
       "      <td>3.749267</td>\n",
       "      <td>0.000000</td>\n",
       "      <td>1.000000</td>\n",
       "      <td>3.000000</td>\n",
       "      <td>5.000000</td>\n",
       "      <td>31.000000</td>\n",
       "    </tr>\n",
       "    <tr>\n",
       "      <th>avg_class_frequency_total</th>\n",
       "      <td>4000.0</td>\n",
       "      <td>1.879020</td>\n",
       "      <td>0.972245</td>\n",
       "      <td>0.000000</td>\n",
       "      <td>1.180875</td>\n",
       "      <td>1.832768</td>\n",
       "      <td>2.536078</td>\n",
       "      <td>6.023668</td>\n",
       "    </tr>\n",
       "    <tr>\n",
       "      <th>avg_class_frequency_current_month</th>\n",
       "      <td>4000.0</td>\n",
       "      <td>1.767052</td>\n",
       "      <td>1.052906</td>\n",
       "      <td>0.000000</td>\n",
       "      <td>0.963003</td>\n",
       "      <td>1.719574</td>\n",
       "      <td>2.510336</td>\n",
       "      <td>6.146783</td>\n",
       "    </tr>\n",
       "    <tr>\n",
       "      <th>churn</th>\n",
       "      <td>4000.0</td>\n",
       "      <td>0.265250</td>\n",
       "      <td>0.441521</td>\n",
       "      <td>0.000000</td>\n",
       "      <td>0.000000</td>\n",
       "      <td>0.000000</td>\n",
       "      <td>1.000000</td>\n",
       "      <td>1.000000</td>\n",
       "    </tr>\n",
       "  </tbody>\n",
       "</table>\n",
       "</div>"
      ],
      "text/plain": [
       "                                    count        mean        std        min  \\\n",
       "gender                             4000.0    0.510250   0.499957   0.000000   \n",
       "near_location                      4000.0    0.845250   0.361711   0.000000   \n",
       "partner                            4000.0    0.486750   0.499887   0.000000   \n",
       "promo_friends                      4000.0    0.308500   0.461932   0.000000   \n",
       "phone                              4000.0    0.903500   0.295313   0.000000   \n",
       "contract_period                    4000.0    4.681250   4.549706   1.000000   \n",
       "group_visits                       4000.0    0.412250   0.492301   0.000000   \n",
       "age                                4000.0   29.184250   3.258367  18.000000   \n",
       "avg_additional_charges_total       4000.0  146.943728  96.355602   0.148205   \n",
       "month_to_end_contract              4000.0    4.322750   4.191297   1.000000   \n",
       "lifetime                           4000.0    3.724750   3.749267   0.000000   \n",
       "avg_class_frequency_total          4000.0    1.879020   0.972245   0.000000   \n",
       "avg_class_frequency_current_month  4000.0    1.767052   1.052906   0.000000   \n",
       "churn                              4000.0    0.265250   0.441521   0.000000   \n",
       "\n",
       "                                         25%         50%         75%  \\\n",
       "gender                              0.000000    1.000000    1.000000   \n",
       "near_location                       1.000000    1.000000    1.000000   \n",
       "partner                             0.000000    0.000000    1.000000   \n",
       "promo_friends                       0.000000    0.000000    1.000000   \n",
       "phone                               1.000000    1.000000    1.000000   \n",
       "contract_period                     1.000000    1.000000    6.000000   \n",
       "group_visits                        0.000000    0.000000    1.000000   \n",
       "age                                27.000000   29.000000   31.000000   \n",
       "avg_additional_charges_total       68.868830  136.220159  210.949625   \n",
       "month_to_end_contract               1.000000    1.000000    6.000000   \n",
       "lifetime                            1.000000    3.000000    5.000000   \n",
       "avg_class_frequency_total           1.180875    1.832768    2.536078   \n",
       "avg_class_frequency_current_month   0.963003    1.719574    2.510336   \n",
       "churn                               0.000000    0.000000    1.000000   \n",
       "\n",
       "                                          max  \n",
       "gender                               1.000000  \n",
       "near_location                        1.000000  \n",
       "partner                              1.000000  \n",
       "promo_friends                        1.000000  \n",
       "phone                                1.000000  \n",
       "contract_period                     12.000000  \n",
       "group_visits                         1.000000  \n",
       "age                                 41.000000  \n",
       "avg_additional_charges_total       552.590740  \n",
       "month_to_end_contract               12.000000  \n",
       "lifetime                            31.000000  \n",
       "avg_class_frequency_total            6.023668  \n",
       "avg_class_frequency_current_month    6.146783  \n",
       "churn                                1.000000  "
      ]
     },
     "execution_count": 10,
     "metadata": {},
     "output_type": "execute_result"
    }
   ],
   "source": [
    "df.describe().T"
   ]
  },
  {
   "cell_type": "markdown",
   "metadata": {
    "id": "yIJ8dPjWeQKb"
   },
   "source": [
    "### Вывод\n",
    "\n",
    "Проверив данные в столбцах на наличие ошибочных значений, не нашли их.\n",
    "\n",
    "Все значения количественных значений в допустимых пределах, а категориальные данные не содержат ошибочных значений."
   ]
  },
  {
   "cell_type": "markdown",
   "metadata": {
    "id": "9KbqkO1msWHv"
   },
   "source": [
    "# Кластеризация объектов"
   ]
  },
  {
   "cell_type": "markdown",
   "metadata": {
    "id": "lTZMW10xJJgL"
   },
   "source": [
    "## Стандартизация данных"
   ]
  },
  {
   "cell_type": "markdown",
   "metadata": {
    "id": "t4C2E_OnacXR"
   },
   "source": [
    "Выберали метод стандартизации, потому что это наиболее часто используемы метод. Масштабирование данных будем производить с помощью класса StandardScaler() из модуля preprocessing библиотеки для машинного обучения sklearn."
   ]
  },
  {
   "cell_type": "code",
   "execution_count": 11,
   "metadata": {
    "id": "L4gdWh8vsfvo"
   },
   "outputs": [],
   "source": [
    "# Импорт модуля !pip install --upgrade pip\n",
    "\n",
    "from sklearn.preprocessing import StandardScaler\n",
    "\n",
    "scaler = StandardScaler()           # создаём объект класса scaler\n",
    "df_sc = scaler.fit_transform(df)    # обучаем стандартизатор и преобразуем набор данных"
   ]
  },
  {
   "cell_type": "markdown",
   "metadata": {
    "id": "tsTm9jWtaYJg"
   },
   "source": [
    "## Агломеративная иерархическая кластеризация"
   ]
  },
  {
   "cell_type": "markdown",
   "metadata": {
    "id": "Rw0spUNs0Tlj"
   },
   "source": [
    "### Удаление целевого признака из данных"
   ]
  },
  {
   "cell_type": "code",
   "execution_count": 12,
   "metadata": {
    "id": "y47JVaXaxfQL"
   },
   "outputs": [],
   "source": [
    "# Кластеризация без цлевого признака в данных\n",
    "df_sc = pd.DataFrame(df_sc, columns = df.columns)\n",
    "y = df_sc['churn']\n",
    "X = df_sc.drop(['churn'], axis=1)"
   ]
  },
  {
   "cell_type": "code",
   "execution_count": 13,
   "metadata": {
    "colab": {
     "background_save": true
    },
    "id": "GCL54LFPN4DH",
    "outputId": "64194a72-aa23-4139-89f6-ca3bcaa93da2"
   },
   "outputs": [
    {
     "data": {
      "image/png": "[encoded data removed]",
      "text/plain": [
       "<Figure size 1500x1000 with 1 Axes>"
      ]
     },
     "metadata": {},
     "output_type": "display_data"
    }
   ],
   "source": [
    "# Импортируем из модуля для иерархической кластеризации hierarchy\n",
    "# классы модели кластеризации linkage() и dendrogram():\n",
    "from scipy.cluster.hierarchy import dendrogram, linkage\n",
    "from matplotlib import pyplot as plt\n",
    "\n",
    "# Создали таблицу «связок» между объектами\n",
    "linked = linkage(df_sc, method = 'ward')\n",
    "\n",
    "# Построение дендрограммы\n",
    "plt.figure(figsize=(15, 10))\n",
    "dendrogram(linked, orientation='top')\n",
    "plt.title('Иерархическая кластеризация для фитнес клуба')\n",
    "plt.show()"
   ]
  },
  {
   "cell_type": "code",
   "execution_count": 14,
   "metadata": {
    "colab": {
     "base_uri": "https://localhost:8080/",
     "height": 610
    },
    "id": "crqMXM9PyOM8",
    "outputId": "3255b22e-41a2-4f6b-8e2d-f6de40bcb711"
   },
   "outputs": [
    {
     "data": {
      "image/png": "[encoded data removed]",
      "text/plain": [
       "<Figure size 1500x1000 with 1 Axes>"
      ]
     },
     "metadata": {},
     "output_type": "display_data"
    }
   ],
   "source": []
  },
  {
   "cell_type": "markdown",
   "metadata": {
    "id": "H-mtrzpY0cYi"
   },
   "source": [
    "Из дендрограммы выдно насколь меняется результат при удалении целевого признака из набора данных"
   ]
  },
  {
   "cell_type": "markdown",
   "metadata": {
    "id": "phvbiLcNbrDs"
   },
   "source": [
    "Из дендрограммы явно видно, что оптимальное количеством кластеров для нашего датесета равно 4"
   ]
  },
  {
   "cell_type": "markdown",
   "metadata": {
    "id": "dPPrDYbD_zVS"
   },
   "source": [
    "Разделим данные на 4 кластеров с применением метода KMeans и метрики высчитанной для агломеративной иерархической кластеризации"
   ]
  },
  {
   "cell_type": "code",
   "execution_count": 15,
   "metadata": {
    "id": "hw2hNZGIeEmz"
   },
   "outputs": [],
   "source": [
    "from sklearn.cluster import KMeans\n",
    "\n",
    "# Задаём число кластеров, равное 4, и фиксируем значение random_state для воспроизводимости результата\n",
    "km = KMeans(n_clusters=4, random_state=0)\n",
    "# Определяем соответствие значений кластерам\n",
    "labels = km.fit_predict(df_sc)"
   ]
  },
  {
   "cell_type": "markdown",
   "metadata": {
    "id": "ZeUn98b9CHPu"
   },
   "source": [
    "## Приоизводим оценку средних значений призноков кластера"
   ]
  },
  {
   "cell_type": "code",
   "execution_count": 16,
   "metadata": {
    "colab": {
     "base_uri": "https://localhost:8080/",
     "height": 175
    },
    "id": "bGYVZNUABiA6",
    "outputId": "6fa8206f-ec1d-4ba9-9530-d12b3a3d0e8e"
   },
   "outputs": [
    {
     "data": {
      "text/html": [
       "<div>\n",
       "<style scoped>\n",
       "    .dataframe tbody tr th:only-of-type {\n",
       "        vertical-align: middle;\n",
       "    }\n",
       "\n",
       "    .dataframe tbody tr th {\n",
       "        vertical-align: top;\n",
       "    }\n",
       "\n",
       "    .dataframe thead th {\n",
       "        text-align: right;\n",
       "    }\n",
       "</style>\n",
       "<table border=\"1\" class=\"dataframe\">\n",
       "  <thead>\n",
       "    <tr style=\"text-align: right;\">\n",
       "      <th></th>\n",
       "      <th>gender</th>\n",
       "      <th>near_location</th>\n",
       "      <th>partner</th>\n",
       "      <th>promo_friends</th>\n",
       "      <th>phone</th>\n",
       "      <th>contract_period</th>\n",
       "      <th>group_visits</th>\n",
       "      <th>age</th>\n",
       "      <th>avg_additional_charges_total</th>\n",
       "      <th>month_to_end_contract</th>\n",
       "      <th>lifetime</th>\n",
       "      <th>avg_class_frequency_total</th>\n",
       "      <th>avg_class_frequency_current_month</th>\n",
       "      <th>churn</th>\n",
       "    </tr>\n",
       "  </thead>\n",
       "  <tbody>\n",
       "    <tr>\n",
       "      <th>0</th>\n",
       "      <td>0.551173</td>\n",
       "      <td>0.843284</td>\n",
       "      <td>0.364606</td>\n",
       "      <td>0.224947</td>\n",
       "      <td>0.910448</td>\n",
       "      <td>2.711087</td>\n",
       "      <td>0.443497</td>\n",
       "      <td>29.989339</td>\n",
       "      <td>158.543165</td>\n",
       "      <td>2.509595</td>\n",
       "      <td>4.755864</td>\n",
       "      <td>2.911693</td>\n",
       "      <td>2.919665</td>\n",
       "      <td>0.005330</td>\n",
       "    </tr>\n",
       "    <tr>\n",
       "      <th>1</th>\n",
       "      <td>0.465969</td>\n",
       "      <td>0.829319</td>\n",
       "      <td>0.450262</td>\n",
       "      <td>0.256545</td>\n",
       "      <td>0.901571</td>\n",
       "      <td>2.706806</td>\n",
       "      <td>0.380105</td>\n",
       "      <td>30.058639</td>\n",
       "      <td>152.315518</td>\n",
       "      <td>2.517277</td>\n",
       "      <td>4.653403</td>\n",
       "      <td>1.182065</td>\n",
       "      <td>1.178747</td>\n",
       "      <td>0.001047</td>\n",
       "    </tr>\n",
       "    <tr>\n",
       "      <th>2</th>\n",
       "      <td>0.510577</td>\n",
       "      <td>0.765385</td>\n",
       "      <td>0.344231</td>\n",
       "      <td>0.177885</td>\n",
       "      <td>0.902885</td>\n",
       "      <td>1.570192</td>\n",
       "      <td>0.263462</td>\n",
       "      <td>26.936538</td>\n",
       "      <td>114.544262</td>\n",
       "      <td>1.519231</td>\n",
       "      <td>0.975000</td>\n",
       "      <td>1.460512</td>\n",
       "      <td>1.031569</td>\n",
       "      <td>0.998077</td>\n",
       "    </tr>\n",
       "    <tr>\n",
       "      <th>3</th>\n",
       "      <td>0.513590</td>\n",
       "      <td>0.939082</td>\n",
       "      <td>0.765698</td>\n",
       "      <td>0.555764</td>\n",
       "      <td>0.899719</td>\n",
       "      <td>11.212746</td>\n",
       "      <td>0.558575</td>\n",
       "      <td>29.884724</td>\n",
       "      <td>163.518341</td>\n",
       "      <td>10.265230</td>\n",
       "      <td>4.667291</td>\n",
       "      <td>2.002911</td>\n",
       "      <td>1.997212</td>\n",
       "      <td>0.015933</td>\n",
       "    </tr>\n",
       "  </tbody>\n",
       "</table>\n",
       "</div>"
      ],
      "text/plain": [
       "     gender  near_location   partner  promo_friends     phone  \\\n",
       "0  0.551173       0.843284  0.364606       0.224947  0.910448   \n",
       "1  0.465969       0.829319  0.450262       0.256545  0.901571   \n",
       "2  0.510577       0.765385  0.344231       0.177885  0.902885   \n",
       "3  0.513590       0.939082  0.765698       0.555764  0.899719   \n",
       "\n",
       "   contract_period  group_visits        age  avg_additional_charges_total  \\\n",
       "0         2.711087      0.443497  29.989339                    158.543165   \n",
       "1         2.706806      0.380105  30.058639                    152.315518   \n",
       "2         1.570192      0.263462  26.936538                    114.544262   \n",
       "3        11.212746      0.558575  29.884724                    163.518341   \n",
       "\n",
       "   month_to_end_contract  lifetime  avg_class_frequency_total  \\\n",
       "0               2.509595  4.755864                   2.911693   \n",
       "1               2.517277  4.653403                   1.182065   \n",
       "2               1.519231  0.975000                   1.460512   \n",
       "3              10.265230  4.667291                   2.002911   \n",
       "\n",
       "   avg_class_frequency_current_month     churn  \n",
       "0                           2.919665  0.005330  \n",
       "1                           1.178747  0.001047  \n",
       "2                           1.031569  0.998077  \n",
       "3                           1.997212  0.015933  "
      ]
     },
     "execution_count": 16,
     "metadata": {},
     "output_type": "execute_result"
    }
   ],
   "source": [
    "# Находим средние значения параметров по кластерам\n",
    "df.groupby(labels).mean()"
   ]
  },
  {
   "cell_type": "markdown",
   "metadata": {
    "id": "meDr2Gc51Djc"
   },
   "source": [
    "Определили три признака (характеристики), оказавших наибольшее влияние на выделение кластеров используя оценку средних значений признаков на основе визуального анализа построенного графика:\n",
    "\n",
    "* contract_period – Длительность текущего абонемента\n",
    "* avg_additional_charges_total – Средние траты на доп \n",
    "* churn – Факт ухода из клуба\n",
    "\n",
    "Данные признаки были выбраны, потому что они сильнее всего отличаются для разных кластеров."
   ]
  },
  {
   "cell_type": "markdown",
   "metadata": {
    "id": "RvHuIFgmTQfz"
   },
   "source": [
    "### Метрика силуэта"
   ]
  },
  {
   "cell_type": "code",
   "execution_count": 17,
   "metadata": {
    "colab": {
     "background_save": true
    },
    "id": "eYgUgfTbTbns",
    "outputId": "878d48bf-87d4-4007-a2bd-a8102d585f84"
   },
   "outputs": [
    {
     "data": {
      "text/plain": [
       "0.1303924849369874"
      ]
     },
     "execution_count": 17,
     "metadata": {},
     "output_type": "execute_result"
    }
   ],
   "source": [
    "from sklearn.metrics import silhouette_score\n",
    "silhouette_score(df_sc, labels)"
   ]
  },
  {
   "cell_type": "markdown",
   "metadata": {
    "id": "KZz6LX00alTH"
   },
   "source": [
    "## K-Means кластеризация"
   ]
  },
  {
   "cell_type": "markdown",
   "metadata": {
    "id": "BQ5puMPVRmaS"
   },
   "source": [
    "Задали случайным образом число кластеров равное 4 и произвели кластеризацию "
   ]
  },
  {
   "cell_type": "code",
   "execution_count": 18,
   "metadata": {
    "colab": {
     "background_save": true
    },
    "id": "OWm2WI45DIrA"
   },
   "outputs": [],
   "source": [
    "from sklearn.cluster import KMeans\n",
    "\n",
    "km = KMeans(n_clusters = 4, random_state = 0)   # задаём число кластеров, равное 5, и фиксируем значение random_state для воспроизводимости результата\n",
    "labels_km = km.fit_predict(df_sc)              # применяем алгоритм к данным и формируем вектор кластеров"
   ]
  },
  {
   "cell_type": "markdown",
   "metadata": {
    "id": "2eZeF4N2RnIF"
   },
   "source": [
    "Рассчитали евклидово расстояние между кластерами и построели тепловую карту для их отобрадения"
   ]
  },
  {
   "cell_type": "code",
   "execution_count": 19,
   "metadata": {
    "colab": {
     "background_save": true
    },
    "id": "SEBHerUBEWuS",
    "outputId": "0fa572a9-7f16-476e-b220-c25b00f9e0ab"
   },
   "outputs": [
    {
     "data": {
      "text/plain": [
       "<AxesSubplot: >"
      ]
     },
     "execution_count": 19,
     "metadata": {},
     "output_type": "execute_result"
    },
    {
     "data": {
      "image/png": "[encoded data removed]",
      "text/plain": [
       "<Figure size 640x480 with 2 Axes>"
      ]
     },
     "metadata": {},
     "output_type": "display_data"
    }
   ],
   "source": [
    "from sklearn.metrics.pairwise import euclidean_distances\n",
    "from seaborn import heatmap\n",
    "\n",
    "heatmap(euclidean_distances(km.cluster_centers_), annot=True)"
   ]
  },
  {
   "cell_type": "code",
   "execution_count": 20,
   "metadata": {
    "colab": {
     "background_save": true
    },
    "id": "8tLJK5PwDlMU",
    "outputId": "65c09309-b816-43cd-ad5f-b12d826c080c"
   },
   "outputs": [
    {
     "data": {
      "text/html": [
       "<div>\n",
       "<style scoped>\n",
       "    .dataframe tbody tr th:only-of-type {\n",
       "        vertical-align: middle;\n",
       "    }\n",
       "\n",
       "    .dataframe tbody tr th {\n",
       "        vertical-align: top;\n",
       "    }\n",
       "\n",
       "    .dataframe thead th {\n",
       "        text-align: right;\n",
       "    }\n",
       "</style>\n",
       "<table border=\"1\" class=\"dataframe\">\n",
       "  <thead>\n",
       "    <tr style=\"text-align: right;\">\n",
       "      <th></th>\n",
       "      <th>gender</th>\n",
       "      <th>near_location</th>\n",
       "      <th>partner</th>\n",
       "      <th>promo_friends</th>\n",
       "      <th>phone</th>\n",
       "      <th>contract_period</th>\n",
       "      <th>group_visits</th>\n",
       "      <th>age</th>\n",
       "      <th>avg_additional_charges_total</th>\n",
       "      <th>month_to_end_contract</th>\n",
       "      <th>lifetime</th>\n",
       "      <th>avg_class_frequency_total</th>\n",
       "      <th>avg_class_frequency_current_month</th>\n",
       "      <th>churn</th>\n",
       "    </tr>\n",
       "  </thead>\n",
       "  <tbody>\n",
       "    <tr>\n",
       "      <th>0</th>\n",
       "      <td>0.551173</td>\n",
       "      <td>0.843284</td>\n",
       "      <td>0.364606</td>\n",
       "      <td>0.224947</td>\n",
       "      <td>0.910448</td>\n",
       "      <td>2.711087</td>\n",
       "      <td>0.443497</td>\n",
       "      <td>29.989339</td>\n",
       "      <td>158.543165</td>\n",
       "      <td>2.509595</td>\n",
       "      <td>4.755864</td>\n",
       "      <td>2.911693</td>\n",
       "      <td>2.919665</td>\n",
       "      <td>0.005330</td>\n",
       "    </tr>\n",
       "    <tr>\n",
       "      <th>1</th>\n",
       "      <td>0.465969</td>\n",
       "      <td>0.829319</td>\n",
       "      <td>0.450262</td>\n",
       "      <td>0.256545</td>\n",
       "      <td>0.901571</td>\n",
       "      <td>2.706806</td>\n",
       "      <td>0.380105</td>\n",
       "      <td>30.058639</td>\n",
       "      <td>152.315518</td>\n",
       "      <td>2.517277</td>\n",
       "      <td>4.653403</td>\n",
       "      <td>1.182065</td>\n",
       "      <td>1.178747</td>\n",
       "      <td>0.001047</td>\n",
       "    </tr>\n",
       "    <tr>\n",
       "      <th>2</th>\n",
       "      <td>0.510577</td>\n",
       "      <td>0.765385</td>\n",
       "      <td>0.344231</td>\n",
       "      <td>0.177885</td>\n",
       "      <td>0.902885</td>\n",
       "      <td>1.570192</td>\n",
       "      <td>0.263462</td>\n",
       "      <td>26.936538</td>\n",
       "      <td>114.544262</td>\n",
       "      <td>1.519231</td>\n",
       "      <td>0.975000</td>\n",
       "      <td>1.460512</td>\n",
       "      <td>1.031569</td>\n",
       "      <td>0.998077</td>\n",
       "    </tr>\n",
       "    <tr>\n",
       "      <th>3</th>\n",
       "      <td>0.513590</td>\n",
       "      <td>0.939082</td>\n",
       "      <td>0.765698</td>\n",
       "      <td>0.555764</td>\n",
       "      <td>0.899719</td>\n",
       "      <td>11.212746</td>\n",
       "      <td>0.558575</td>\n",
       "      <td>29.884724</td>\n",
       "      <td>163.518341</td>\n",
       "      <td>10.265230</td>\n",
       "      <td>4.667291</td>\n",
       "      <td>2.002911</td>\n",
       "      <td>1.997212</td>\n",
       "      <td>0.015933</td>\n",
       "    </tr>\n",
       "  </tbody>\n",
       "</table>\n",
       "</div>"
      ],
      "text/plain": [
       "     gender  near_location   partner  promo_friends     phone  \\\n",
       "0  0.551173       0.843284  0.364606       0.224947  0.910448   \n",
       "1  0.465969       0.829319  0.450262       0.256545  0.901571   \n",
       "2  0.510577       0.765385  0.344231       0.177885  0.902885   \n",
       "3  0.513590       0.939082  0.765698       0.555764  0.899719   \n",
       "\n",
       "   contract_period  group_visits        age  avg_additional_charges_total  \\\n",
       "0         2.711087      0.443497  29.989339                    158.543165   \n",
       "1         2.706806      0.380105  30.058639                    152.315518   \n",
       "2         1.570192      0.263462  26.936538                    114.544262   \n",
       "3        11.212746      0.558575  29.884724                    163.518341   \n",
       "\n",
       "   month_to_end_contract  lifetime  avg_class_frequency_total  \\\n",
       "0               2.509595  4.755864                   2.911693   \n",
       "1               2.517277  4.653403                   1.182065   \n",
       "2               1.519231  0.975000                   1.460512   \n",
       "3              10.265230  4.667291                   2.002911   \n",
       "\n",
       "   avg_class_frequency_current_month     churn  \n",
       "0                           2.919665  0.005330  \n",
       "1                           1.178747  0.001047  \n",
       "2                           1.031569  0.998077  \n",
       "3                           1.997212  0.015933  "
      ]
     },
     "execution_count": 20,
     "metadata": {},
     "output_type": "execute_result"
    }
   ],
   "source": [
    "# Находим средние значения параметров по кластерам\n",
    "df.groupby(labels_km).mean()"
   ]
  },
  {
   "cell_type": "markdown",
   "metadata": {
    "id": "O4-hWAp2_b0W"
   },
   "source": [
    "Аналогично тому, как мы определяли три признака наиболее повлиявших на разбиение кластеров в прошлый раз определили параметры, которые наиболее различны для кластеров, ими оказались следующие:\n",
    "* contract_period – Длительность текущего абонемента\n",
    "* month_to_end_contract – Количество месяцев до окончания абонемента\n",
    "* churn – Факт ухода из клуба"
   ]
  },
  {
   "cell_type": "markdown",
   "metadata": {
    "id": "oGIx5V6BnU7T"
   },
   "source": [
    "### Определили объекты, относящиеся к каждому кластеру\n",
    "\n",
    "* **Кластер 0**\n",
    "  * Отток - 0,5%\n",
    "  * Краткосрочные договора до 3 месяцев\n",
    "  * Время с момента первого обращения в фитнес-центр более 4 \n",
    "  * Живут или работают неподалеку от фитнес-клуба 84%\n",
    "  * Средние траты на доп услуги 158.5\n",
    "* **Кластер 1**\n",
    "  * **Отток - 0,1% - свмый низкий**\n",
    "  * Краткосрочные договора до 3 месяцев\n",
    "  * Время с момента первого обращения в фитнес-центр более 4 \n",
    "  * Живут или работают неподалеку от фитнес-клуба 82%\n",
    "  * Средние траты на доп услуги 152.3\n",
    "* **Кластер 2**\n",
    "  * **Отток - 99% - самый высокий**\n",
    "  * **Краткосрочные договора до 2 месяцев**\n",
    "  * До окончания контракта меньше 2 месяцев\n",
    "  * Время с момента первого обращения в фитнес-центр меньше 1 месяца\n",
    "  * Живут или работают неподалеку от фитнес-клуба 76%\n",
    "  * **Средние траты на доп услуги 114.5 - ниже остальных**\n",
    "* **Кластер 3**\n",
    "  * **Отток - 1,5%**\n",
    "  * **Долгосрочные договора до 12 месяцев**\n",
    "  * Время с момента первого обращения в фитнес-центр более 4 месяцев\n",
    "  * Живут или работают неподалеку от фитнес-клуба 93%\n",
    "  * **Средние траты на доп услуги 163.5 - самый высокий**"
   ]
  },
  {
   "cell_type": "markdown",
   "metadata": {
    "id": "31jnW01e03pr"
   },
   "source": [
    "### Разделил данные на 2 класса и посчитаем сркднии значениця\n",
    "Так как у нас бинарный результата, то есть либо клиент ушел либо остался посмотрим какие результаты мы получем для средних значений призноков при резбиении на 2 класса."
   ]
  },
  {
   "cell_type": "code",
   "execution_count": 21,
   "metadata": {
    "colab": {
     "base_uri": "https://localhost:8080/",
     "height": 112
    },
    "id": "TUvxX95B1WTJ",
    "outputId": "33502d09-9380-4a3d-9210-e943a9615f7f"
   },
   "outputs": [
    {
     "data": {
      "text/html": [
       "<div>\n",
       "<style scoped>\n",
       "    .dataframe tbody tr th:only-of-type {\n",
       "        vertical-align: middle;\n",
       "    }\n",
       "\n",
       "    .dataframe tbody tr th {\n",
       "        vertical-align: top;\n",
       "    }\n",
       "\n",
       "    .dataframe thead th {\n",
       "        text-align: right;\n",
       "    }\n",
       "</style>\n",
       "<table border=\"1\" class=\"dataframe\">\n",
       "  <thead>\n",
       "    <tr style=\"text-align: right;\">\n",
       "      <th></th>\n",
       "      <th>gender</th>\n",
       "      <th>near_location</th>\n",
       "      <th>partner</th>\n",
       "      <th>promo_friends</th>\n",
       "      <th>phone</th>\n",
       "      <th>contract_period</th>\n",
       "      <th>group_visits</th>\n",
       "      <th>age</th>\n",
       "      <th>avg_additional_charges_total</th>\n",
       "      <th>month_to_end_contract</th>\n",
       "      <th>lifetime</th>\n",
       "      <th>avg_class_frequency_total</th>\n",
       "      <th>avg_class_frequency_current_month</th>\n",
       "      <th>churn</th>\n",
       "    </tr>\n",
       "  </thead>\n",
       "  <tbody>\n",
       "    <tr>\n",
       "      <th>0</th>\n",
       "      <td>0.516063</td>\n",
       "      <td>0.935065</td>\n",
       "      <td>0.740943</td>\n",
       "      <td>0.529050</td>\n",
       "      <td>0.898154</td>\n",
       "      <td>9.807929</td>\n",
       "      <td>0.543404</td>\n",
       "      <td>29.946685</td>\n",
       "      <td>163.379857</td>\n",
       "      <td>8.961039</td>\n",
       "      <td>4.797676</td>\n",
       "      <td>2.147120</td>\n",
       "      <td>2.135405</td>\n",
       "      <td>0.032809</td>\n",
       "    </tr>\n",
       "    <tr>\n",
       "      <th>1</th>\n",
       "      <td>0.506898</td>\n",
       "      <td>0.793457</td>\n",
       "      <td>0.340166</td>\n",
       "      <td>0.181317</td>\n",
       "      <td>0.906583</td>\n",
       "      <td>1.724872</td>\n",
       "      <td>0.336618</td>\n",
       "      <td>28.744580</td>\n",
       "      <td>137.465582</td>\n",
       "      <td>1.648009</td>\n",
       "      <td>3.106031</td>\n",
       "      <td>1.724416</td>\n",
       "      <td>1.554635</td>\n",
       "      <td>0.399291</td>\n",
       "    </tr>\n",
       "  </tbody>\n",
       "</table>\n",
       "</div>"
      ],
      "text/plain": [
       "     gender  near_location   partner  promo_friends     phone  \\\n",
       "0  0.516063       0.935065  0.740943       0.529050  0.898154   \n",
       "1  0.506898       0.793457  0.340166       0.181317  0.906583   \n",
       "\n",
       "   contract_period  group_visits        age  avg_additional_charges_total  \\\n",
       "0         9.807929      0.543404  29.946685                    163.379857   \n",
       "1         1.724872      0.336618  28.744580                    137.465582   \n",
       "\n",
       "   month_to_end_contract  lifetime  avg_class_frequency_total  \\\n",
       "0               8.961039  4.797676                   2.147120   \n",
       "1               1.648009  3.106031                   1.724416   \n",
       "\n",
       "   avg_class_frequency_current_month     churn  \n",
       "0                           2.135405  0.032809  \n",
       "1                           1.554635  0.399291  "
      ]
     },
     "execution_count": 21,
     "metadata": {},
     "output_type": "execute_result"
    }
   ],
   "source": [
    "# Кластеризация без целевого признака\n",
    "\n",
    "from sklearn.cluster import KMeans\n",
    "\n",
    "km = KMeans(n_clusters = 2, random_state = 0)  \n",
    "labels_km = km.fit_predict(X)\n",
    "\n",
    "df.groupby(labels_km).mean()"
   ]
  },
  {
   "cell_type": "code",
   "execution_count": 22,
   "metadata": {
    "colab": {
     "base_uri": "https://localhost:8080/"
    },
    "id": "UoHmgaHz4MD_",
    "outputId": "db52843e-90f2-4121-ccac-d36e523d3f6c"
   },
   "outputs": [
    {
     "data": {
      "text/plain": [
       "0.15836187757027995"
      ]
     },
     "execution_count": 22,
     "metadata": {},
     "output_type": "execute_result"
    }
   ],
   "source": [
    "# Метрика силуета\n",
    "from sklearn.metrics import silhouette_score\n",
    "silhouette_score(df_sc, labels_km)"
   ]
  },
  {
   "cell_type": "markdown",
   "metadata": {
    "id": "vZEibbzfQrbR"
   },
   "source": [
    "### Метрика силуэта"
   ]
  },
  {
   "cell_type": "code",
   "execution_count": 23,
   "metadata": {
    "colab": {
     "background_save": true
    },
    "id": "tJF2waRCQBCE",
    "outputId": "9acbf227-53d1-4e3a-c2d7-dfbe2fc3f9d9"
   },
   "outputs": [
    {
     "data": {
      "text/plain": [
       "0.15836187757027995"
      ]
     },
     "execution_count": 23,
     "metadata": {},
     "output_type": "execute_result"
    }
   ],
   "source": [
    "from sklearn.metrics import silhouette_score\n",
    "silhouette_score(df_sc, labels_km)"
   ]
  },
  {
   "cell_type": "markdown",
   "metadata": {
    "id": "735jf4mfQoF2"
   },
   "source": [
    "Отценка качества кластеризации методом силуета дала значение равное приближонно 0,13.\n",
    "\n",
    "Так как значение метрики силуэта принимает значения от -1 до 1 и чем ближе к 1, тем качественнее кластеризация,то наше предположительное число кластеров в 4 является не самым оптимальным и его можно сокоректировать.\n",
    "\n",
    "Значения, близкие к 0, указывают на перекрывающиеся кластеры."
   ]
  },
  {
   "cell_type": "markdown",
   "metadata": {
    "id": "b9-Zxw-qcz8e"
   },
   "source": [
    "### Определение оптимального числа кластеров"
   ]
  },
  {
   "cell_type": "markdown",
   "metadata": {
    "id": "CiMnrqjLc7p4"
   },
   "source": [
    "Чтобы рассчитать оптимальное число кластеров, воспользуемся критерием – суммы квадратов расстояний от точек до центроидов кластеров, к которым они относятся.\n",
    "\n",
    "Данный критерий рассчитывается по формуле:\n",
    "\n",
    "![111.png](data:image/png;base64,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)\n",
    "\n",
    "где C – множество кластеров мощности K, μ &#8342; – центроид кластера C &#8342;"
   ]
  },
  {
   "cell_type": "code",
   "execution_count": 24,
   "metadata": {
    "colab": {
     "base_uri": "https://localhost:8080/",
     "height": 281
    },
    "id": "9wByD7N1apkN",
    "outputId": "610b2fc9-5851-49ca-8b37-a766e7c2c488"
   },
   "outputs": [
    {
     "data": {
      "image/png": "[encoded data removed]",
      "text/plain": [
       "<Figure size 640x480 with 1 Axes>"
      ]
     },
     "metadata": {},
     "output_type": "display_data"
    }
   ],
   "source": [
    "from sklearn.cluster import KMeans\n",
    "\n",
    "inertia = []\n",
    "mx = 20\n",
    "for k in range(1, mx):\n",
    "    kmeans = KMeans(n_clusters=k, random_state=1).fit(X)\n",
    "    inertia.append(np.sqrt(kmeans.inertia_))\n",
    "\n",
    "plt.plot(range(1, mx), inertia, marker='s');\n",
    "plt.xlabel('$k$')\n",
    "plt.ylabel('$J(C_k)$');"
   ]
  },
  {
   "cell_type": "markdown",
   "metadata": {
    "id": "hwnD9VyQgvtZ"
   },
   "source": [
    "График получился довольно плавный поэтому конкретное число конкретное число кластером не так очевидно. По правилу локтя оптимальным можно выбрать значения 5, 6, или 7, потому что до 5 значения J(C&#8342;)  быстро падает с увеличением количества кластеров, а после 7 падение сильно замедляется."
   ]
  },
  {
   "cell_type": "markdown",
   "metadata": {
    "id": "Eftlqm2uyyBR"
   },
   "source": [
    "## Вывод\n",
    "В ходе данной лабораторной работы мы подготовили датасет и провели его кластеризацию.\n",
    "\n",
    "Подготовили датасет с информацией о клиентах фитнес-клуба, исправив ошибки с названиями, в остальном данные были валидны.\n",
    "\n",
    "Затем, чтобы можно было провести кластеризацию, стандартизировали данные, чтобы установить подходящие размерности параметров.\n",
    "\n",
    "Стандартизированные данные подвергли кластеризации методом агломеративной иерархической кластеризации, в ходе которой определили по построенной дендрограме оптимальное число кластеров. На кластеризированых данных провели анализ и выяснили какие параметры имели наибольшее значение для разделения на кластеры.\n",
    "\n",
    "Потом проделали кластеризацию тех же стандартизированных данных с применением алгоритма К-средних. Изначально было выбрано не самое оптимальное количество кластеров, это выяснилось при оценки критерием – суммы квадратов расстояний от точек до центроидов кластеров, к которым они относятся. Аналогично первому методу выделили параметры наиболее повлиявшие на разделение кластеров и описали в терминах предметной области получившиеся кластеры. \n"
   ]
  }
 ],
 "metadata": {
  "colab": {
   "provenance": []
  },
  "kernelspec": {
   "display_name": "Python 3 (ipykernel)",
   "language": "python",
   "name": "python3"
  },
  "language_info": {
   "codemirror_mode": {
    "name": "ipython",
    "version": 3
   },
   "file_extension": ".py",
   "mimetype": "text/x-python",
   "name": "python",
   "nbconvert_exporter": "python",
   "pygments_lexer": "ipython3",
   "version": "3.10.8"
  }
 },
 "nbformat": 4,
 "nbformat_minor": 4
}
