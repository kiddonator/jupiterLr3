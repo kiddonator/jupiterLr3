{
 "cells": [
  {
   "cell_type": "markdown",
   "metadata": {
    "id": "Vg1tiI3d2958"
   },
   "source": [
    "## 4918 Ткачев М.А\n",
    "---\n",
    "#**Введение в анализ данных**\n",
    "### Лабораторная работа №3 **Кластеризация данных**\n",
    "---\n",
    "### Индивидуальный вариант №5\n",
    "Датасет: ***5gym_churn.csv***\n",
    "> Информация о заемщиках:\n",
    "1. gender – Пол\n",
    "2. near_location – Близкое расположение\n",
    "3. partner – Сотрудник компании партнера\n",
    "4. promo_friends – По промо друзей\n",
    "5. phone – Указан ли телефон\n",
    "6. contract_period – Длительность текущего абонемента\n",
    "7. group_visits – Посещение групповых занятий\n",
    "8. age – Возраст\n",
    "9. avg_additional_charges_total – Средние траты на доп услуги\n",
    "10. month_to_end_contract – Количество месяцев до окончания абонемента\n",
    "11. lifetime – Время с момента первого обращения в фитнес-центр (в месяцах)\n",
    "12. avg_class_frequency_total – Средняя частота посещений в неделю за все время с начала действия абонемента\n",
    "13. avg_class_frequency_current_month – Средняя частота посещений в неделю за предыдущий месяц\n",
    "14. churn – Факт ухода из клуба\n",
    "\n",
    "\n",
    "\n",
    "\n",
    "\n",
    "\n",
    "\n",
    "\n",
    "\n",
    "\n",
    "\n",
    "\n",
    "\n",
    "\n"
   ]
  },
  {
   "cell_type": "code",
   "execution_count": null,
   "metadata": {
    "colab": {
     "base_uri": "https://localhost:8080/"
    },
    "id": "2fRv7jBJ5FLg",
    "outputId": "f61d9f40-2c77-46a4-c9d6-1fdde9601d43"
   },
   "outputs": [],
   "source": []
  },
  {
   "cell_type": "code",
   "execution_count": null,
   "metadata": {
    "id": "RJYzprfp2zqI"
   },
   "outputs": [],
   "source": [
    "# Подключаем библиотеку для обработки и анализа данных\n",
    "import pandas as pd"
   ]
  },
  {
   "cell_type": "code",
   "execution_count": null,
   "metadata": {
    "id": "MspfNS0B4Kal"
   },
   "outputs": [],
   "source": [
    "# Загружаем датасет\n",
    "df=pd.read_csv('5gym_churn.csv', delimiter=',')"
   ]
  },
  {
   "cell_type": "code",
   "execution_count": null,
   "metadata": {
    "colab": {
     "base_uri": "https://localhost:8080/"
    },
    "id": "enJIamQ-4x4h",
    "outputId": "c16d408e-988a-459d-d73f-a95a289b81fb"
   },
   "outputs": [],
   "source": [
    "# Выводим информацию о данных датасета\n",
    "df.info()"
   ]
  },
  {
   "cell_type": "code",
   "execution_count": null,
   "metadata": {
    "colab": {
     "base_uri": "https://localhost:8080/",
     "height": 363
    },
    "id": "eHJUfbG04wXd",
    "outputId": "40d3120b-498c-4e36-ec20-b3478a4b955d"
   },
   "outputs": [],
   "source": [
    "# Выводим первые 10 строк датасета\n",
    "df.head(10)"
   ]
  },
  {
   "cell_type": "markdown",
   "metadata": {
    "id": "GZWUmiRVT3pk"
   },
   "source": [
    "### Вывод\n",
    "\n",
    "Ознакомившись с данные на первый взгляд с ними все хорошо только названия столбцов нужно привести к единому змеиному регистру, переименовывать не нужно так как названия столбцов соответствуют содержимому.\n",
    "\n",
    "Типы данных также соответствуют."
   ]
  },
  {
   "cell_type": "markdown",
   "metadata": {
    "id": "gfn1lNQy4pd-"
   },
   "source": [
    "# Предварительная подготовка данных"
   ]
  },
  {
   "cell_type": "markdown",
   "metadata": {
    "id": "KXHgoxw-5uLs"
   },
   "source": [
    "## Устранение проблем названий столбцов"
   ]
  },
  {
   "cell_type": "code",
   "execution_count": null,
   "metadata": {
    "colab": {
     "base_uri": "https://localhost:8080/"
    },
    "id": "I_pyPFUO6ZRW",
    "outputId": "ee474f6f-de67-4a30-97ca-2d52d83aefb4"
   },
   "outputs": [],
   "source": [
    "# Вывели названия столбцов таблицы\n",
    "print(*df.columns.tolist(), sep='\\n')"
   ]
  },
  {
   "cell_type": "code",
   "execution_count": null,
   "metadata": {
    "colab": {
     "base_uri": "https://localhost:8080/"
    },
    "id": "Ap1xtFMt6fAg",
    "outputId": "86ffa03c-76ee-4887-b5f1-2422eae7ec9c"
   },
   "outputs": [],
   "source": [
    "# Приведём названия столбцов к нижнему регистру\n",
    "df.columns = df.columns.str.lower()\n",
    "# Проверка\n",
    "print(*df.columns.tolist(), sep='\\n')"
   ]
  },
  {
   "cell_type": "markdown",
   "metadata": {
    "id": "ncrcziujkfMo"
   },
   "source": [
    "### Вывод\n",
    "\n",
    "Теперь названия столбцов имеют единый стиль змеиного регистра, что улучшает восприяние информации."
   ]
  },
  {
   "cell_type": "markdown",
   "metadata": {
    "id": "aZ8HNom491f_"
   },
   "source": [
    "## Обработка пропусков"
   ]
  },
  {
   "cell_type": "code",
   "execution_count": null,
   "metadata": {
    "colab": {
     "base_uri": "https://localhost:8080/"
    },
    "id": "i3QYpMwV-3Jj",
    "outputId": "8b719e9f-619f-49df-ba44-f0a14156d42a"
   },
   "outputs": [],
   "source": [
    "# поиск пустых значений\n",
    "df.isnull().sum()"
   ]
  },
  {
   "cell_type": "markdown",
   "metadata": {
    "id": "sPIIKNWNkwqp"
   },
   "source": [
    "### Вывод\n",
    "\n",
    "Пропусков в дата сете не оказалось, исправлять ничего не нужно – это упрощает нам работу."
   ]
  },
  {
   "cell_type": "markdown",
   "metadata": {
    "id": "ON1xWKP2Wr9r"
   },
   "source": [
    "## Устранение дубликатов "
   ]
  },
  {
   "cell_type": "code",
   "execution_count": null,
   "metadata": {
    "colab": {
     "base_uri": "https://localhost:8080/"
    },
    "id": "08h06GBoW0Vj",
    "outputId": "533eba31-a5b0-4611-9ecb-0b76b15803d3"
   },
   "outputs": [],
   "source": [
    "# проверим, есть ли дубликаты в таблице\n",
    "df.duplicated().sum()"
   ]
  },
  {
   "cell_type": "markdown",
   "metadata": {
    "id": "m5aBtBUVduTp"
   },
   "source": [
    "### Вывод\n",
    "\n",
    "Дубликаты отсутствуют."
   ]
  },
  {
   "cell_type": "markdown",
   "metadata": {
    "id": "A3lgpFTlYQkr"
   },
   "source": [
    "## Обработка других ошибок в данных"
   ]
  },
  {
   "cell_type": "code",
   "execution_count": null,
   "metadata": {
    "colab": {
     "base_uri": "https://localhost:8080/"
    },
    "id": "f9D53hBzY-iC",
    "outputId": "7298a25b-4689-4ac2-f8c8-182e0d7a0b14"
   },
   "outputs": [],
   "source": [
    "import numpy as np\n",
    "# посмотрим уникальные значения в столбцах\n",
    "for i in df.columns:\n",
    "  if i not in ['avg_additional_charges_total', 'month_to_end_contract', 'avg_class_frequency_total', 'avg_class_frequency_current_month']:\n",
    "    print('Столбец: ' + i, *np.sort(df[i].unique()),'_____________________________________', sep='\\n')"
   ]
  },
  {
   "cell_type": "code",
   "execution_count": null,
   "metadata": {
    "colab": {
     "base_uri": "https://localhost:8080/",
     "height": 488
    },
    "id": "XjPaOyyLuA0q",
    "outputId": "d22f1c1d-7cbe-4f81-bdd0-1b303b1dbd36"
   },
   "outputs": [],
   "source": [
    "df.describe().T"
   ]
  },
  {
   "cell_type": "markdown",
   "metadata": {
    "id": "yIJ8dPjWeQKb"
   },
   "source": [
    "### Вывод\n",
    "\n",
    "Проверив данные в столбцах на наличие ошибочных значений, не нашли их.\n",
    "\n",
    "Все значения количественных значений в допустимых пределах, а категориальные данные не содержат ошибочных значений."
   ]
  },
  {
   "cell_type": "markdown",
   "metadata": {
    "id": "9KbqkO1msWHv"
   },
   "source": [
    "# Кластеризация объектов"
   ]
  },
  {
   "cell_type": "markdown",
   "metadata": {
    "id": "lTZMW10xJJgL"
   },
   "source": [
    "## Стандартизация данных"
   ]
  },
  {
   "cell_type": "markdown",
   "metadata": {
    "id": "t4C2E_OnacXR"
   },
   "source": [
    "Выберали метод стандартизации, потому что это наиболее часто используемы метод. Масштабирование данных будем производить с помощью класса StandardScaler() из модуля preprocessing библиотеки для машинного обучения sklearn."
   ]
  },
  {
   "cell_type": "code",
   "execution_count": null,
   "metadata": {
    "id": "L4gdWh8vsfvo"
   },
   "outputs": [],
   "source": [
    "# Импорт модуля !pip install --upgrade pip\n",
    "\n",
    "from sklearn.preprocessing import StandardScaler\n",
    "\n",
    "scaler = StandardScaler()           # создаём объект класса scaler\n",
    "df_sc = scaler.fit_transform(df)    # обучаем стандартизатор и преобразуем набор данных"
   ]
  },
  {
   "cell_type": "markdown",
   "metadata": {
    "id": "tsTm9jWtaYJg"
   },
   "source": [
    "## Агломеративная иерархическая кластеризация"
   ]
  },
  {
   "cell_type": "markdown",
   "metadata": {
    "id": "Rw0spUNs0Tlj"
   },
   "source": [
    "### Удаление целевого признака из данных"
   ]
  },
  {
   "cell_type": "code",
   "execution_count": null,
   "metadata": {
    "id": "y47JVaXaxfQL"
   },
   "outputs": [],
   "source": [
    "# Кластеризация без цлевого признака в данных\n",
    "df_sc = pd.DataFrame(df_sc, columns = df.columns)\n",
    "y = df_sc['churn']\n",
    "X = df_sc.drop(['churn'], axis=1)"
   ]
  },
  {
   "cell_type": "code",
   "execution_count": null,
   "metadata": {
    "colab": {
     "background_save": true
    },
    "id": "GCL54LFPN4DH",
    "outputId": "64194a72-aa23-4139-89f6-ca3bcaa93da2"
   },
   "outputs": [],
   "source": [
    "# Импортируем из модуля для иерархической кластеризации hierarchy\n",
    "# классы модели кластеризации linkage() и dendrogram():\n",
    "from scipy.cluster.hierarchy import dendrogram, linkage\n",
    "from matplotlib import pyplot as plt\n",
    "\n",
    "# Создали таблицу «связок» между объектами\n",
    "linked = linkage(df_sc, method = 'ward')\n",
    "\n",
    "# Построение дендрограммы\n",
    "plt.figure(figsize=(15, 10))\n",
    "dendrogram(linked, orientation='top')\n",
    "plt.title('Иерархическая кластеризация для фитнес клуба')\n",
    "plt.show()"
   ]
  },
  {
   "cell_type": "code",
   "execution_count": null,
   "metadata": {
    "colab": {
     "base_uri": "https://localhost:8080/",
     "height": 610
    },
    "id": "crqMXM9PyOM8",
    "outputId": "3255b22e-41a2-4f6b-8e2d-f6de40bcb711"
   },
   "outputs": [],
   "source": []
  },
  {
   "cell_type": "markdown",
   "metadata": {
    "id": "H-mtrzpY0cYi"
   },
   "source": [
    "Из дендрограммы выдно насколь меняется результат при удалении целевого признака из набора данных"
   ]
  },
  {
   "cell_type": "markdown",
   "metadata": {
    "id": "phvbiLcNbrDs"
   },
   "source": [
    "Из дендрограммы явно видно, что оптимальное количеством кластеров для нашего датесета равно 4"
   ]
  },
  {
   "cell_type": "markdown",
   "metadata": {
    "id": "dPPrDYbD_zVS"
   },
   "source": [
    "Разделим данные на 4 кластеров с применением метода KMeans и метрики высчитанной для агломеративной иерархической кластеризации"
   ]
  },
  {
   "cell_type": "code",
   "execution_count": null,
   "metadata": {
    "id": "hw2hNZGIeEmz"
   },
   "outputs": [],
   "source": [
    "from sklearn.cluster import KMeans\n",
    "\n",
    "# Задаём число кластеров, равное 4, и фиксируем значение random_state для воспроизводимости результата\n",
    "km = KMeans(n_clusters=4, random_state=0)\n",
    "# Определяем соответствие значений кластерам\n",
    "labels = km.fit_predict(df_sc)"
   ]
  },
  {
   "cell_type": "markdown",
   "metadata": {
    "id": "ZeUn98b9CHPu"
   },
   "source": [
    "## Приоизводим оценку средних значений призноков кластера"
   ]
  },
  {
   "cell_type": "code",
   "execution_count": null,
   "metadata": {
    "colab": {
     "base_uri": "https://localhost:8080/",
     "height": 175
    },
    "id": "bGYVZNUABiA6",
    "outputId": "6fa8206f-ec1d-4ba9-9530-d12b3a3d0e8e"
   },
   "outputs": [],
   "source": [
    "# Находим средние значения параметров по кластерам\n",
    "df.groupby(labels).mean()"
   ]
  },
  {
   "cell_type": "markdown",
   "metadata": {
    "id": "meDr2Gc51Djc"
   },
   "source": [
    "Определили три признака (характеристики), оказавших наибольшее влияние на выделение кластеров используя оценку средних значений признаков на основе визуального анализа построенного графика:\n",
    "\n",
    "* contract_period – Длительность текущего абонемента\n",
    "* avg_additional_charges_total – Средние траты на доп \n",
    "* churn – Факт ухода из клуба\n",
    "\n",
    "Данные признаки были выбраны, потому что они сильнее всего отличаются для разных кластеров."
   ]
  },
  {
   "cell_type": "markdown",
   "metadata": {
    "id": "RvHuIFgmTQfz"
   },
   "source": [
    "### Метрика силуэта"
   ]
  },
  {
   "cell_type": "code",
   "execution_count": null,
   "metadata": {
    "colab": {
     "background_save": true
    },
    "id": "eYgUgfTbTbns",
    "outputId": "878d48bf-87d4-4007-a2bd-a8102d585f84"
   },
   "outputs": [],
   "source": [
    "from sklearn.metrics import silhouette_score\n",
    "silhouette_score(df_sc, labels)"
   ]
  },
  {
   "cell_type": "markdown",
   "metadata": {
    "id": "KZz6LX00alTH"
   },
   "source": [
    "## K-Means кластеризация"
   ]
  },
  {
   "cell_type": "markdown",
   "metadata": {
    "id": "BQ5puMPVRmaS"
   },
   "source": [
    "Задали случайным образом число кластеров равное 4 и произвели кластеризацию "
   ]
  },
  {
   "cell_type": "code",
   "execution_count": null,
   "metadata": {
    "colab": {
     "background_save": true
    },
    "id": "OWm2WI45DIrA"
   },
   "outputs": [],
   "source": [
    "from sklearn.cluster import KMeans\n",
    "\n",
    "km = KMeans(n_clusters = 4, random_state = 0)   # задаём число кластеров, равное 5, и фиксируем значение random_state для воспроизводимости результата\n",
    "labels_km = km.fit_predict(df_sc)              # применяем алгоритм к данным и формируем вектор кластеров"
   ]
  },
  {
   "cell_type": "markdown",
   "metadata": {
    "id": "2eZeF4N2RnIF"
   },
   "source": [
    "Рассчитали евклидово расстояние между кластерами и построели тепловую карту для их отобрадения"
   ]
  },
  {
   "cell_type": "code",
   "execution_count": null,
   "metadata": {
    "colab": {
     "background_save": true
    },
    "id": "SEBHerUBEWuS",
    "outputId": "0fa572a9-7f16-476e-b220-c25b00f9e0ab"
   },
   "outputs": [],
   "source": [
    "from sklearn.metrics.pairwise import euclidean_distances\n",
    "from seaborn import heatmap\n",
    "\n",
    "heatmap(euclidean_distances(km.cluster_centers_), annot=True)"
   ]
  },
  {
   "cell_type": "code",
   "execution_count": null,
   "metadata": {
    "colab": {
     "background_save": true
    },
    "id": "8tLJK5PwDlMU",
    "outputId": "65c09309-b816-43cd-ad5f-b12d826c080c"
   },
   "outputs": [],
   "source": [
    "# Находим средние значения параметров по кластерам\n",
    "df.groupby(labels_km).mean()"
   ]
  },
  {
   "cell_type": "markdown",
   "metadata": {
    "id": "O4-hWAp2_b0W"
   },
   "source": [
    "Аналогично тому, как мы определяли три признака наиболее повлиявших на разбиение кластеров в прошлый раз определили параметры, которые наиболее различны для кластеров, ими оказались следующие:\n",
    "* contract_period – Длительность текущего абонемента\n",
    "* month_to_end_contract – Количество месяцев до окончания абонемента\n",
    "* churn – Факт ухода из клуба"
   ]
  },
  {
   "cell_type": "markdown",
   "metadata": {
    "id": "oGIx5V6BnU7T"
   },
   "source": [
    "### Определили объекты, относящиеся к каждому кластеру\n",
    "\n",
    "* **Кластер 0**\n",
    "  * Отток - 0,5%\n",
    "  * Краткосрочные договора до 3 месяцев\n",
    "  * Время с момента первого обращения в фитнес-центр более 4 \n",
    "  * Живут или работают неподалеку от фитнес-клуба 84%\n",
    "  * Средние траты на доп услуги 158.5\n",
    "* **Кластер 1**\n",
    "  * **Отток - 0,1% - свмый низкий**\n",
    "  * Краткосрочные договора до 3 месяцев\n",
    "  * Время с момента первого обращения в фитнес-центр более 4 \n",
    "  * Живут или работают неподалеку от фитнес-клуба 82%\n",
    "  * Средние траты на доп услуги 152.3\n",
    "* **Кластер 2**\n",
    "  * **Отток - 99% - самый высокий**\n",
    "  * **Краткосрочные договора до 2 месяцев**\n",
    "  * До окончания контракта меньше 2 месяцев\n",
    "  * Время с момента первого обращения в фитнес-центр меньше 1 месяца\n",
    "  * Живут или работают неподалеку от фитнес-клуба 76%\n",
    "  * **Средние траты на доп услуги 114.5 - ниже остальных**\n",
    "* **Кластер 3**\n",
    "  * **Отток - 1,5%**\n",
    "  * **Долгосрочные договора до 12 месяцев**\n",
    "  * Время с момента первого обращения в фитнес-центр более 4 месяцев\n",
    "  * Живут или работают неподалеку от фитнес-клуба 93%\n",
    "  * **Средние траты на доп услуги 163.5 - самый высокий**"
   ]
  },
  {
   "cell_type": "markdown",
   "metadata": {
    "id": "31jnW01e03pr"
   },
   "source": [
    "### Разделил данные на 2 класса и посчитаем сркднии значениця\n",
    "Так как у нас бинарный результата, то есть либо клиент ушел либо остался посмотрим какие результаты мы получем для средних значений призноков при резбиении на 2 класса."
   ]
  },
  {
   "cell_type": "code",
   "execution_count": null,
   "metadata": {
    "colab": {
     "base_uri": "https://localhost:8080/",
     "height": 112
    },
    "id": "TUvxX95B1WTJ",
    "outputId": "33502d09-9380-4a3d-9210-e943a9615f7f"
   },
   "outputs": [],
   "source": [
    "# Кластеризация без целевого признака\n",
    "\n",
    "from sklearn.cluster import KMeans\n",
    "\n",
    "km = KMeans(n_clusters = 2, random_state = 0)  \n",
    "labels_km = km.fit_predict(X)\n",
    "\n",
    "df.groupby(labels_km).mean()"
   ]
  },
  {
   "cell_type": "code",
   "execution_count": null,
   "metadata": {
    "colab": {
     "base_uri": "https://localhost:8080/"
    },
    "id": "UoHmgaHz4MD_",
    "outputId": "db52843e-90f2-4121-ccac-d36e523d3f6c"
   },
   "outputs": [],
   "source": [
    "# Метрика силуета\n",
    "from sklearn.metrics import silhouette_score\n",
    "silhouette_score(df_sc, labels_km)"
   ]
  },
  {
   "cell_type": "markdown",
   "metadata": {
    "id": "vZEibbzfQrbR"
   },
   "source": [
    "### Метрика силуэта"
   ]
  },
  {
   "cell_type": "code",
   "execution_count": null,
   "metadata": {
    "colab": {
     "background_save": true
    },
    "id": "tJF2waRCQBCE",
    "outputId": "9acbf227-53d1-4e3a-c2d7-dfbe2fc3f9d9"
   },
   "outputs": [],
   "source": [
    "from sklearn.metrics import silhouette_score\n",
    "silhouette_score(df_sc, labels_km)"
   ]
  },
  {
   "cell_type": "markdown",
   "metadata": {
    "id": "735jf4mfQoF2"
   },
   "source": [
    "Отценка качества кластеризации методом силуета дала значение равное приближонно 0,13.\n",
    "\n",
    "Так как значение метрики силуэта принимает значения от -1 до 1 и чем ближе к 1, тем качественнее кластеризация,то наше предположительное число кластеров в 4 является не самым оптимальным и его можно сокоректировать.\n",
    "\n",
    "Значения, близкие к 0, указывают на перекрывающиеся кластеры."
   ]
  },
  {
   "cell_type": "markdown",
   "metadata": {
    "id": "b9-Zxw-qcz8e"
   },
   "source": [
    "### Определение оптимального числа кластеров"
   ]
  },
  {
   "cell_type": "markdown",
   "metadata": {
    "id": "CiMnrqjLc7p4"
   },
   "source": [
    "Чтобы рассчитать оптимальное число кластеров, воспользуемся критерием – суммы квадратов расстояний от точек до центроидов кластеров, к которым они относятся.\n",
    "\n",
    "Данный критерий рассчитывается по формуле:\n",
    "\n",
    "![111.png](data:image/png;base64,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)\n",
    "\n",
    "где C – множество кластеров мощности K, μ &#8342; – центроид кластера C &#8342;"
   ]
  },
  {
   "cell_type": "code",
   "execution_count": null,
   "metadata": {
    "colab": {
     "base_uri": "https://localhost:8080/",
     "height": 281
    },
    "id": "9wByD7N1apkN",
    "outputId": "610b2fc9-5851-49ca-8b37-a766e7c2c488"
   },
   "outputs": [],
   "source": [
    "from sklearn.cluster import KMeans\n",
    "\n",
    "inertia = []\n",
    "mx = 20\n",
    "for k in range(1, mx):\n",
    "    kmeans = KMeans(n_clusters=k, random_state=1).fit(X)\n",
    "    inertia.append(np.sqrt(kmeans.inertia_))\n",
    "\n",
    "plt.plot(range(1, mx), inertia, marker='s');\n",
    "plt.xlabel('$k$')\n",
    "plt.ylabel('$J(C_k)$');"
   ]
  },
  {
   "cell_type": "markdown",
   "metadata": {
    "id": "hwnD9VyQgvtZ"
   },
   "source": [
    "График получился довольно плавный поэтому конкретное число конкретное число кластером не так очевидно. По правилу локтя оптимальным можно выбрать значения 5, 6, или 7, потому что до 5 значения J(C&#8342;)  быстро падает с увеличением количества кластеров, а после 7 падение сильно замедляется."
   ]
  },
  {
   "cell_type": "markdown",
   "metadata": {
    "id": "Eftlqm2uyyBR"
   },
   "source": [
    "## Вывод\n",
    "В ходе данной лабораторной работы мы подготовили датасет и провели его кластеризацию.\n",
    "\n",
    "Подготовили датасет с информацией о клиентах фитнес-клуба, исправив ошибки с названиями, в остальном данные были валидны.\n",
    "\n",
    "Затем, чтобы можно было провести кластеризацию, стандартизировали данные, чтобы установить подходящие размерности параметров.\n",
    "\n",
    "Стандартизированные данные подвергли кластеризации методом агломеративной иерархической кластеризации, в ходе которой определили по построенной дендрограме оптимальное число кластеров. На кластеризированых данных провели анализ и выяснили какие параметры имели наибольшее значение для разделения на кластеры.\n",
    "\n",
    "Потом проделали кластеризацию тех же стандартизированных данных с применением алгоритма К-средних. Изначально было выбрано не самое оптимальное количество кластеров, это выяснилось при оценки критерием – суммы квадратов расстояний от точек до центроидов кластеров, к которым они относятся. Аналогично первому методу выделили параметры наиболее повлиявшие на разделение кластеров и описали в терминах предметной области получившиеся кластеры. \n"
   ]
  }
 ],
 "metadata": {
  "colab": {
   "provenance": []
  },
  "kernelspec": {
   "display_name": "Python 3 (ipykernel)",
   "language": "python",
   "name": "python3"
  },
  "language_info": {
   "codemirror_mode": {
    "name": "ipython",
    "version": 3
   },
   "file_extension": ".py",
   "mimetype": "text/x-python",
   "name": "python",
   "nbconvert_exporter": "python",
   "pygments_lexer": "ipython3",
   "version": "3.10.8"
  }
 },
 "nbformat": 4,
 "nbformat_minor": 4
}
